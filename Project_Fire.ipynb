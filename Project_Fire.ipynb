import pandas as pd
import matplotlib.pyplot as plt
import numpy as np
import os

from sklearn import tree, preprocessing
import sklearn.ensemble as ske
from sklearn.model_selection import train_test_split

df = pd.read_csv("Fires_1M.csv", encoding = "ISO-8859-1")
df.columns
df.count()

df1 = df[['FIRE_YEAR','STAT_CAUSE_DESCR','LATITUDE','LONGITUDE','STATE','DISCOVERY_DATE','FIRE_SIZE']]

df1.head()

df1['DATE'] = pd.to_datetime(df1['DISCOVERY_DATE'] - pd.Timestamp(0).to_julian_date(), unit='D')
df1.head()

df1['MONTH'] = pd.DatetimeIndex(df1['DATE']).month
df1['DAY_OF_WEEK'] = df1['DATE'].dt.weekday_name
df_orig = df1.copy() #I will use this copy later
print(df1.head())

df1['STAT_CAUSE_DESCR'].value_counts().plot(kind='barh',color='coral')
plt.show()

df1['DAY_OF_WEEK'].value_counts().plot(kind='barh',color='coral')
plt.show()

df_lightning = df1[df1['STAT_CAUSE_DESCR']=='Lightning']
df_lightning['DAY_OF_WEEK'].value_counts().plot(kind='barh',color='coral')
plt.show()

df_arson = df1[df1['STAT_CAUSE_DESCR']=='Arson']
df_arson['DAY_OF_WEEK'].value_counts().plot(kind='barh',color='coral')
plt.show()

df1['STATE'].value_counts().head(n=10).plot(kind='barh',color='coral')
plt.show()

df_CA = df1[df1['STATE']=='CA']
df_GA = df1[df1['STATE']=='GA']
df_TX = df1[df1['STATE']=='TX']
df_FL = df1[df1['STATE']=='FL']
df_SC = df1[df1['STATE']=='SC']

df_CA['STAT_CAUSE_DESCR'].value_counts().plot(kind='barh',color='coral',title='causes of fires for CA')
plt.show()

df_FL['STAT_CAUSE_DESCR'].value_counts().plot(kind='barh',color='coral',title='causes of fires for FL')
plt.show()

df_SC['STAT_CAUSE_DESCR'].value_counts().plot(kind='barh',color='coral',title='causes of fires for SC')
plt.show()

df_GA['STAT_CAUSE_DESCR'].value_counts().plot(kind='barh',color='coral',title='causes of fires for GA')
plt.show()

df_TX['STAT_CAUSE_DESCR'].value_counts().plot(kind='barh',color='coral',title='causes of fires for TX')
plt.show()

df1.plot(kind='scatter',x='LONGITUDE',y='LATITUDE',color='coral',alpha=0.3)
plt.show()

le = preprocessing.LabelEncoder()
df1['STAT_CAUSE_DESCR'] = le.fit_transform(df1['STAT_CAUSE_DESCR'])
df1['STATE'] = le.fit_transform(df1['STATE'])
df1['DAY_OF_WEEK'] = le.fit_transform(df1['DAY_OF_WEEK'])
print(df1.head())

def plot_corr(df1,size=10):
    corr = df1.corr()  #the default method is pearson
    fig, ax = plt.subplots(figsize=(size, size))
    ax.matshow(corr,cmap=plt.cm.Oranges)
    plt.xticks(range(len(corr.columns)), corr.columns)
    plt.yticks(range(len(corr.columns)), corr.columns)
    for tick in ax.get_xticklabels():
        tick.set_rotation(45)    
    plt.show()
    

    
plot_corr(df1)

#Part 3
df1 = df1.drop('DATE',axis=1)
df1 = df1.dropna()

X = df1.drop(['STAT_CAUSE_DESCR'], axis=1).values
y = df1['STAT_CAUSE_DESCR'].values

X_train, X_test, y_train, y_test = train_test_split(X,y,test_size=0.3, random_state=0) #30% for testing, 70% for training

clf_rf = ske.RandomForestClassifier(n_estimators=50)
clf_rf = clf_rf.fit(X_train, y_train)
print(clf_rf.score(X_test,y_test))

def set_label(cat):
    cause = 0
    natural = ['Lightning']
    accidental = ['Structure','Fireworks','Powerline','Railroad','Smoking','Children','Campfire','Equipment Use','Debris Burning']
    malicious = ['Arson']
    other = ['Missing/Undefined','Miscellaneous']
    if cat in natural:
        cause = 1
    elif cat in accidental:
        cause = 2
    elif cat in malicious:
        cause = 3
    else:
        cause = 4
    return cause
     

df1['LABEL'] = df_orig['STAT_CAUSE_DESCR'].apply(lambda x: set_label(x)) # I created a copy of the original df earlier in the kernel
df1 = df1.drop('STAT_CAUSE_DESCR',axis=1)
print(df1.head())

X = df1.drop(['LABEL'], axis=1).values
y = df1['LABEL'].values
X_train, X_test, y_train, y_test = train_test_split(X,y,test_size=0.3, random_state=0)
clf_rf = ske.RandomForestClassifier(n_estimators=50)
clf_rf = clf_rf.fit(X_train, y_train)
print(clf_rf.score(X_test,y_test))

from sklearn.metrics import confusion_matrix
y_pred = clf_rf.fit(X_train, y_train).predict(X_test)
cm = confusion_matrix(y_true=y_test,y_pred=y_pred)
print(cm)

cmn = cm.astype('float') / cm.sum(axis=1)[:, np.newaxis]
fig,ax = plt.subplots(figsize=(10,10))
ax.matshow(cmn,cmap=plt.cm.Oranges,alpha=0.7)
for i in range(cmn.shape[0]):
    for j in range(cmn.shape[1]):
        ax.text(x=j,y=i,s=cmn[i,j],va='center',ha='center')
plt.xlabel('predicted label')
plt.ylabel('true label')
plt.show()

#Part4

print(df_FL.head())

def set_arson_label(cause):
    arson = 0
    if cause == 'Arson':
        arson = 1
    return arson
     

df_FL['ARSON'] = df_FL['STAT_CAUSE_DESCR'].apply(lambda x: set_arson_label(x)) 
print(df_FL.head())

df_FL = df_FL.drop('DATE',axis=1)
df_FL = df_FL.drop('STATE',axis=1)
df_FL = df_FL.drop('STAT_CAUSE_DESCR',axis=1)
df_FL = df_FL.drop('FIRE_SIZE',axis=1)
df_FL = df_FL.dropna()

le = preprocessing.LabelEncoder()
df_FL['DAY_OF_WEEK'] = le.fit_transform(df_FL['DAY_OF_WEEK'])

print(df_FL.head())

X = df_FL.drop(['ARSON'], axis=1).values
y = df_FL['ARSON'].values
X_train, X_test, y_train, y_test = train_test_split(X,y,test_size=0.3, random_state=0) #30% for testing, 70% for training
clf_rf = ske.RandomForestClassifier(n_estimators=200)
clf_rf = clf_rf.fit(X_train, y_train)
print(clf_rf.score(X_test,y_test))

#This meets the goal of 90% or better.
#Summary: Given some basic data, the kind of data available when a fire is first discovered, 
#it is possible to predict with some accuracy if the fire was the result of arson.
